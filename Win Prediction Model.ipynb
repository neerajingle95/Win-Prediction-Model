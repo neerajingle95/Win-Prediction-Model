{
 "cells": [
  {
   "cell_type": "markdown",
   "metadata": {},
   "source": [
    "# 1. Imports & load dataset"
   ]
  },
  {
   "cell_type": "code",
   "execution_count": 1,
   "metadata": {},
   "outputs": [
    {
     "data": {
      "text/html": [
       "<style>.container { width:100% !important; }</style>"
      ],
      "text/plain": [
       "<IPython.core.display.HTML object>"
      ]
     },
     "metadata": {},
     "output_type": "display_data"
    }
   ],
   "source": [
    "import pandas as pd\n",
    "import numpy as np\n",
    "import matplotlib.pyplot as plt\n",
    "\n",
    "import warnings\n",
    "warnings.filterwarnings('ignore')\n",
    "\n",
    "pd.set_option('display.max_rows', None)\n",
    "pd.set_option('display.max_columns', None)  \n",
    "pd.set_option('display.expand_frame_repr', False)\n",
    "pd.set_option('max_colwidth', -1)\n",
    "\n",
    "from IPython.display import display, HTML\n",
    "display(HTML(\"<style>.container { width:100% !important; }</style>\"))"
   ]
  },
  {
   "cell_type": "code",
   "execution_count": 2,
   "metadata": {},
   "outputs": [],
   "source": [
    "ipl_df = pd.read_csv('C:/Users/neera/Mad About Sports/Advanced Cricket Analytics Masterclass/Datasets/IPL_ball_by_ball_updated.csv')"
   ]
  },
  {
   "cell_type": "markdown",
   "metadata": {},
   "source": [
    "# 2. Sneak peek into the data"
   ]
  },
  {
   "cell_type": "code",
   "execution_count": 3,
   "metadata": {},
   "outputs": [
    {
     "data": {
      "text/html": [
       "<div>\n",
       "<style scoped>\n",
       "    .dataframe tbody tr th:only-of-type {\n",
       "        vertical-align: middle;\n",
       "    }\n",
       "\n",
       "    .dataframe tbody tr th {\n",
       "        vertical-align: top;\n",
       "    }\n",
       "\n",
       "    .dataframe thead th {\n",
       "        text-align: right;\n",
       "    }\n",
       "</style>\n",
       "<table border=\"1\" class=\"dataframe\">\n",
       "  <thead>\n",
       "    <tr style=\"text-align: right;\">\n",
       "      <th></th>\n",
       "      <th>match_id</th>\n",
       "      <th>season</th>\n",
       "      <th>start_date</th>\n",
       "      <th>venue</th>\n",
       "      <th>innings</th>\n",
       "      <th>ball</th>\n",
       "      <th>batting_team</th>\n",
       "      <th>bowling_team</th>\n",
       "      <th>striker</th>\n",
       "      <th>non_striker</th>\n",
       "      <th>bowler</th>\n",
       "      <th>runs_off_bat</th>\n",
       "      <th>extras</th>\n",
       "      <th>wides</th>\n",
       "      <th>noballs</th>\n",
       "      <th>byes</th>\n",
       "      <th>legbyes</th>\n",
       "      <th>penalty</th>\n",
       "      <th>wicket_type</th>\n",
       "      <th>player_dismissed</th>\n",
       "      <th>other_wicket_type</th>\n",
       "      <th>other_player_dismissed</th>\n",
       "    </tr>\n",
       "  </thead>\n",
       "  <tbody>\n",
       "    <tr>\n",
       "      <th>0</th>\n",
       "      <td>335982</td>\n",
       "      <td>2008</td>\n",
       "      <td>2008-04-18</td>\n",
       "      <td>M Chinnaswamy Stadium</td>\n",
       "      <td>2</td>\n",
       "      <td>6.8</td>\n",
       "      <td>Royal Challengers Bangalore</td>\n",
       "      <td>Kolkata Knight Riders</td>\n",
       "      <td>MV Boucher</td>\n",
       "      <td>CL White</td>\n",
       "      <td>AB Agarkar</td>\n",
       "      <td>4</td>\n",
       "      <td>0</td>\n",
       "      <td>NaN</td>\n",
       "      <td>NaN</td>\n",
       "      <td>NaN</td>\n",
       "      <td>NaN</td>\n",
       "      <td>NaN</td>\n",
       "      <td>NaN</td>\n",
       "      <td>NaN</td>\n",
       "      <td>NaN</td>\n",
       "      <td>NaN</td>\n",
       "    </tr>\n",
       "    <tr>\n",
       "      <th>1</th>\n",
       "      <td>335982</td>\n",
       "      <td>2008</td>\n",
       "      <td>2008-04-18</td>\n",
       "      <td>M Chinnaswamy Stadium</td>\n",
       "      <td>2</td>\n",
       "      <td>2.7</td>\n",
       "      <td>Royal Challengers Bangalore</td>\n",
       "      <td>Kolkata Knight Riders</td>\n",
       "      <td>W Jaffer</td>\n",
       "      <td>JH Kallis</td>\n",
       "      <td>AB Dinda</td>\n",
       "      <td>1</td>\n",
       "      <td>0</td>\n",
       "      <td>NaN</td>\n",
       "      <td>NaN</td>\n",
       "      <td>NaN</td>\n",
       "      <td>NaN</td>\n",
       "      <td>NaN</td>\n",
       "      <td>NaN</td>\n",
       "      <td>NaN</td>\n",
       "      <td>NaN</td>\n",
       "      <td>NaN</td>\n",
       "    </tr>\n",
       "  </tbody>\n",
       "</table>\n",
       "</div>"
      ],
      "text/plain": [
       "   match_id  season  start_date                  venue  innings  ball                 batting_team           bowling_team     striker non_striker      bowler  runs_off_bat  extras  wides  noballs  byes  legbyes  penalty wicket_type player_dismissed  other_wicket_type  other_player_dismissed\n",
       "0  335982    2008    2008-04-18  M Chinnaswamy Stadium  2        6.8   Royal Challengers Bangalore  Kolkata Knight Riders  MV Boucher  CL White    AB Agarkar  4             0      NaN    NaN      NaN   NaN      NaN       NaN         NaN             NaN                NaN                    \n",
       "1  335982    2008    2008-04-18  M Chinnaswamy Stadium  2        2.7   Royal Challengers Bangalore  Kolkata Knight Riders  W Jaffer    JH Kallis   AB Dinda    1             0      NaN    NaN      NaN   NaN      NaN       NaN         NaN             NaN                NaN                    "
      ]
     },
     "execution_count": 3,
     "metadata": {},
     "output_type": "execute_result"
    }
   ],
   "source": [
    "ipl_df.head(2)"
   ]
  },
  {
   "cell_type": "code",
   "execution_count": 4,
   "metadata": {},
   "outputs": [
    {
     "data": {
      "text/plain": [
       "array(['Royal Challengers Bangalore', 'Kolkata Knight Riders',\n",
       "       'Rajasthan Royals', 'Delhi Daredevils', 'Kings XI Punjab',\n",
       "       'Chennai Super Kings', 'Deccan Chargers', 'Mumbai Indians',\n",
       "       'Kochi Tuskers Kerala', 'Pune Warriors', 'Sunrisers Hyderabad',\n",
       "       'Rising Pune Supergiants', 'Gujarat Lions',\n",
       "       'Rising Pune Supergiant', 'Delhi Capitals', 'Punjab Kings',\n",
       "       'Gujarat Titans', 'Lucknow Super Giants'], dtype=object)"
      ]
     },
     "execution_count": 4,
     "metadata": {},
     "output_type": "execute_result"
    }
   ],
   "source": [
    "ipl_df['batting_team'].unique()"
   ]
  },
  {
   "cell_type": "code",
   "execution_count": 5,
   "metadata": {},
   "outputs": [
    {
     "data": {
      "text/plain": [
       "array([2, 1, 4, 3, 6, 5], dtype=int64)"
      ]
     },
     "execution_count": 5,
     "metadata": {},
     "output_type": "execute_result"
    }
   ],
   "source": [
    "ipl_df['innings'].unique()"
   ]
  },
  {
   "cell_type": "code",
   "execution_count": 6,
   "metadata": {},
   "outputs": [],
   "source": [
    "# Not considering super overs (innings 3 to 6)\n",
    "ipl_df = ipl_df[(ipl_df.innings == 1) | (ipl_df.innings == 2)]"
   ]
  },
  {
   "cell_type": "code",
   "execution_count": 7,
   "metadata": {},
   "outputs": [
    {
     "data": {
      "text/plain": [
       "array([2, 1], dtype=int64)"
      ]
     },
     "execution_count": 7,
     "metadata": {},
     "output_type": "execute_result"
    }
   ],
   "source": [
    "ipl_df['innings'].unique()"
   ]
  },
  {
   "cell_type": "markdown",
   "metadata": {},
   "source": [
    "# 3. Additional columns\n",
    "## 3.1 Total runs in each ball"
   ]
  },
  {
   "cell_type": "code",
   "execution_count": 8,
   "metadata": {},
   "outputs": [],
   "source": [
    "ipl_df['total_runs'] = ipl_df.apply(lambda x: x['runs_off_bat'] + x['extras'], axis = 1)"
   ]
  },
  {
   "cell_type": "markdown",
   "metadata": {},
   "source": [
    "## 3.2 Is there a wicket in that ball"
   ]
  },
  {
   "cell_type": "code",
   "execution_count": 9,
   "metadata": {},
   "outputs": [
    {
     "data": {
      "text/plain": [
       "array([nan, 'JH Kallis', 'W Jaffer', 'V Kohli', 'R Dravid', 'Z Khan',\n",
       "       'SB Joshi', 'AA Noffke', 'MV Boucher', 'B Akhil', 'CL White',\n",
       "       'SC Ganguly', 'DJ Hussey', 'RT Ponting', 'M Kaif', 'DS Lehmann',\n",
       "       'M Rawat', 'RA Jadeja', 'SR Watson', 'YK Pathan', 'T Kohli',\n",
       "       'SK Warne', 'V Sehwag', 'KC Sangakkara', 'SK Raina', 'JDP Oram',\n",
       "       'PA Patel', 'MS Dhoni', 'ML Hayden', 'JR Hopes', 'Yuvraj Singh',\n",
       "       'K Goel', 'SB Styris', 'SB Bangar', 'WPUJC Vaas', 'A Symonds',\n",
       "       'AS Yadav', 'Y Venugopal Rao', 'PP Ojha', 'VVS Laxman',\n",
       "       'RG Sharma', 'AC Gilchrist', 'Mohammad Hafeez', 'WP Saha',\n",
       "       'BB McCullum', 'PR Shah', 'AM Nayar', 'RV Uthappa', 'DJ Thornely',\n",
       "       'L Ronchi', 'ST Jayasuriya', 'LRPL Taylor', 'SM Pollock',\n",
       "       'S Chanderpaul', 'Kamran Akmal', 'DPMD Jayawardene', 'IK Pathan',\n",
       "       'S Sohal', 'B Lee', 'G Gambhir', 'Shahid Afridi', 'MA Khote',\n",
       "       'Harbhajan Singh', 'DJ Bravo', 'MEK Hussey', 'GC Smith',\n",
       "       'D Salunkhe', 'SS Tiwary', 'S Sreesanth', 'VRV Singh', 'PP Chawla',\n",
       "       'RR Sarwan', 'M Kartik', 'AB Agarkar', 'LR Shukla', 'P Kumar',\n",
       "       'R Bhatia', 'MF Maharoof', 'MK Tiwary', 'Shoaib Malik',\n",
       "       'KD Karthik', 'SM Katich', 'TM Srivastava', 'AM Rahane',\n",
       "       'S Dhawan', 'B Chipli', 'DW Steyn', 'MK Pandey', 'DB Das',\n",
       "       'SA Asnodkar', 'AB Dinda', 'Umar Gul', 'Salman Butt', 'BJ Hodge',\n",
       "       'D Kalyankrishna', 'DNT Zoysa', 'HH Gibbs', 'JA Morkel',\n",
       "       'SP Fleming', 'S Vidyut', 'SE Marsh', 'Misbah-ul-Haq',\n",
       "       'Joginder Sharma', 'Mohammad Asif', 'PJ Sangwan', 'GD McGrath',\n",
       "       'S Badrinath', 'M Ntini', 'M Muralitharan', 'YV Takawale',\n",
       "       'AB de Villiers', 'A Kumble', 'DT Patil', 'S Anirudha',\n",
       "       'SK Trivedi', 'Sohail Tanvir', 'T Taibu', 'CK Kapugedera',\n",
       "       'A Chopra', 'J Arunkumar', 'RP Singh', 'DB Ravi Teja',\n",
       "       'AD Mascarenhas', 'A Mishra', 'R Vinay Kumar', 'TM Dilshan',\n",
       "       'VY Mahesh', 'SR Tendulkar', 'Shoaib Akhtar', 'I Sharma',\n",
       "       'LPC Silva', 'H Das', 'SP Goswami', 'SD Chitnis', 'A Nehra',\n",
       "       'VS Yeligati', 'DR Smith', 'MS Gony', 'L Balaji', 'LA Pomersbach',\n",
       "       'A Nel', 'A Mukund', 'Younis Khan', 'Niraj Patel', 'WA Mota',\n",
       "       'Kamran Khan', 'KP Pietersen', 'JD Ryder', 'T Henderson',\n",
       "       'MM Patel', 'JP Duminy', 'A Flintoff', 'MC Henriques', 'RS Bopara',\n",
       "       'CH Gayle', 'R Bishnoi', 'KV Sharma', 'RJ Quiney', 'PC Valthaty',\n",
       "       'Yashpal Singh', 'Pankaj Singh', 'FH Edwards', 'AS Raut',\n",
       "       'BAW Mendis', 'AN Ghosh', 'DL Vettori', 'RR Powar',\n",
       "       'RE van der Merwe', 'TL Suman', 'Shoaib Ahmed', 'AA Bilakhia',\n",
       "       'GR Napier', 'MN van Wyk', 'SB Jakati', 'M Vijay', 'M Manhas',\n",
       "       'DA Warner', 'LA Carseldine', 'NV Ojha', 'RJ Harris', 'D du Preez',\n",
       "       'DS Kulkarni', 'RR Raje', 'M Morkel', 'AD Mathews', 'S Tyagi',\n",
       "       'C Nanda', 'SL Malinga', 'A Singh', 'J Botha', 'GJ Bailey',\n",
       "       'Y Nagar', 'AB McDonald', 'T Thushara', 'R Ashwin', 'SS Shaikh',\n",
       "       'Mohammad Ashraful', 'Anirudh Singh', 'CA Pujara', 'MS Bisla',\n",
       "       'P Dogra', 'R Sathish', 'AT Rayudu', 'A Uniyal', 'AP Tare',\n",
       "       'AA Jhunjhunwala', 'JM Kemp', 'EJG Morgan', 'SE Bond',\n",
       "       'RS Gavaskar', 'OA Shah', 'KA Pollard', 'DP Nannes', 'DR Martyn',\n",
       "       'S Narwal', 'MJ Lumb', 'AB Barath', 'FY Fazal', 'J Theron',\n",
       "       'MD Mishra', 'S Ladda', 'SJ Srivastava', 'R Sharma',\n",
       "       'Mandeep Singh', 'KAJ Roach', 'Jaskaran Singh', 'AC Voges',\n",
       "       'CK Langeveldt', 'PD Collingwood', 'VS Malik', 'SW Tait',\n",
       "       'KM Jadhav', 'A Mithun', 'Harmeet Singh', 'AP Dole', 'R McLaren',\n",
       "       'S Sriram', 'KP Appanna', 'C Madan', 'AG Paunikar', 'MR Marsh',\n",
       "       'AJ Finch', 'STR Binny', 'B Sumanth', 'RV Gomez', 'MA Agarwal',\n",
       "       'IR Jaggi', 'DT Christian', 'Sunny Singh', 'UT Yadav', 'UBT Chand',\n",
       "       'DJ Jacobs', 'AUK Pathan', 'AL Menaria', 'WD Parnell',\n",
       "       'JJ van der Wath', 'R Ninan', 'MS Wade', 'Shakib Al Hasan',\n",
       "       'SB Wagh', 'TD Paine', 'JEC Franklin', 'S Randiv', 'BJ Haddin',\n",
       "       'NLTC Perera', 'NL McCullum', 'JE Taylor', 'TR Birt',\n",
       "       'RN ten Doeschate', 'M Klinger', 'Harpreet Singh', 'Bipul Sharma',\n",
       "       'AC Blizzard', 'S Nadeem', 'CA Ingram', 'DH Yagnik',\n",
       "       'KB Arun Karthik', 'ND Doshi', 'AA Chavan', 'CJ Ferguson',\n",
       "       'Y Gnaneswara Rao', 'S Rana', 'BA Bhatt', 'DE Bollinger',\n",
       "       'RE Levi', 'F du Plessis', 'SPD Smith', 'B Kumar', 'MN Samuels',\n",
       "       'SA Yadav', 'Ankit Sharma', 'DJ Harris', 'GJ Maxwell', 'HV Patel',\n",
       "       'JP Faulkner', 'SP Narine', 'KK Cooper', 'GB Hogg', 'RR Bhatkal',\n",
       "       'CJ McKay', 'N Saini', 'DA Miller', 'P Negi', 'Azhar Mahmood',\n",
       "       'AC Thomas', 'RJ Peterson', 'A Ashish Reddy', 'V Pratap Singh',\n",
       "       'MJ Clarke', 'Gurkeerat Singh', 'VR Aaron', 'PA Reddy',\n",
       "       'AP Majumdar', 'AD Russell', 'CA Lynn', 'Sunny Gupta', 'MC Juneja',\n",
       "       'KK Nair', 'GH Vihari', 'B Laughlin', 'MDKJ Perera',\n",
       "       'Mohammed Shami', 'BMAJ Mendis', 'M Vohra', 'R Rampaul', 'P Awana',\n",
       "       'BJ Rohrer', 'SMSM Senanayake', 'J Syed Mohammad', 'KL Rahul',\n",
       "       'MG Johnson', 'R Dhawan', 'BB Samantray', 'Q de Kock', 'LJ Wright',\n",
       "       'IC Pandey', 'AG Murtaza', 'X Thalaivan Sargunam', 'DJG Sammy',\n",
       "       'SV Samson', 'KW Richardson', 'CH Morris', 'MM Sharma',\n",
       "       'CM Gautam', 'Parvez Rasool', 'UA Birla', 'Sachin Baby',\n",
       "       'NM Coulter-Nile', 'CJ Anderson', 'NJ Maddinson', 'AR Patel',\n",
       "       'JDS Neesham', 'PV Tambe', 'TG Southee', 'MA Starc', 'BR Dunk',\n",
       "       'RR Rossouw', 'Shivam Sharma', 'LMP Simmons', 'VH Zol', 'R Shukla',\n",
       "       'Imran Tahir', 'BCJ Cutting', 'BE Hendricks', 'R Tewatia',\n",
       "       'S Gopal', 'M de Lange', 'JO Holder', 'JD Unadkat', 'SS Iyer',\n",
       "       'DJ Hooda', 'SA Abbott', 'AN Ahmed', 'KS Williamson',\n",
       "       'Iqbal Abdulla', 'D Wiese', 'SN Khan', 'MJ McClenaghan',\n",
       "       'HH Pandya', 'Anureet Singh', 'DJ Muthuswami', 'PJ Cummins',\n",
       "       'Sandeep Sharma', 'Karanveer Singh', 'J Suchith', 'JC Buttler',\n",
       "       'CR Brathwaite', 'MP Stoinis', 'Ishan Kishan', 'C Munro',\n",
       "       'AD Nath', 'MJ Guptill', 'P Sahu', 'TM Head', 'M Ashwin',\n",
       "       'NS Naik', 'KH Pandya', 'RR Pant', 'SW Billings', 'PSP Handscomb',\n",
       "       'KC Cariappa', 'Swapnil Singh', 'UT Khawaja', 'J Yadav', 'HM Amla',\n",
       "       'JJ Bumrah', 'A Zampa', 'N Rana', 'S Kaushik', 'F Behardien',\n",
       "       'KJ Abbott', 'ER Dwivedi', 'CJ Jordan', 'S Aravind', 'TS Mills',\n",
       "       'YS Chahal', 'BA Stokes', 'JJ Roy', 'Vishnu Vinod', 'CR Woakes',\n",
       "       'RA Tripathi', 'DL Chahar', 'Rashid Khan', 'V Shankar',\n",
       "       'SN Thakur', 'C de Grandhomme', 'AF Milne', 'S Badree',\n",
       "       'Mohammad Nabi', 'K Rabada', 'AJ Tye', 'Kuldeep Yadav',\n",
       "       'SP Jackson', 'Ankit Soni', 'A Choudhary', 'AS Rajpoot',\n",
       "       'Washington Sundar', 'MA Wood', 'E Lewis', 'RK Singh', 'DJM Short',\n",
       "       'K Gowtham', 'S Kaul', 'Mujeeb Ur Rahman', 'Shubman Gill',\n",
       "       'Shivam Mavi', 'TK Curran', 'TA Boult', 'H Klaasen', 'JC Archer',\n",
       "       'RK Bhui', 'PP Shaw', 'LE Plunkett', 'M Markande',\n",
       "       'Mustafizur Rahman', 'Basil Thampi', 'BB Sran', 'AD Hales',\n",
       "       'MK Lomror', 'DR Shorey', 'Mohammed Siraj', 'MM Ali', 'P Chopra',\n",
       "       'IS Sodhi', 'Abhishek Sharma', 'JPR Scantlebury-Searles',\n",
       "       'SO Hetmyer', 'S Dube', 'NA Saini', 'KMA Paul', 'JM Bairstow',\n",
       "       'N Pooran', 'P Ray Barman', 'S Lamichhane', 'SM Curran',\n",
       "       'GC Viljoen', 'RD Chahar', 'M Prasidh Krishna', 'SD Lad',\n",
       "       'R Parag', 'JL Denly', 'LS Livingstone', 'KK Ahmed', 'AJ Turner',\n",
       "       'SE Rutherford', 'MJ Santner', 'P Simran Singh', 'JL Pattinson',\n",
       "       'D Padikkal', 'PK Garg', 'RD Gaikwad', 'YBK Jaiswal',\n",
       "       'JR Philippe', 'Ravi Bishnoi', 'Abdul Samad', 'I Udana',\n",
       "       'KL Nagarkoti', 'CV Varun', 'SS Cottrell', 'Arshdeep Singh',\n",
       "       'N Jagadeesan', 'T Banton', 'AT Carey', 'TU Deshpande', 'A Nortje',\n",
       "       'Kartik Tyagi', 'DR Sams', 'RM Patidar', 'KA Jamieson',\n",
       "       'Shahbaz Ahmed', 'M Jansen', 'JA Richardson', 'Lalit Yadav',\n",
       "       'M Shahrukh Khan', 'Virat Singh', 'FA Allen', 'C Sakariya',\n",
       "       'DJ Malan', 'Anmolpreet Singh', 'PWH de Silva', 'KS Bharat',\n",
       "       'VR Iyer', 'TH David', 'NT Ellis', 'AK Markram', 'Avesh Khan',\n",
       "       'TL Seifert', 'GHS Garton', 'RV Patel', 'GD Phillips',\n",
       "       'Anuj Rawat', 'DP Conway', 'RA Bawa', 'PBB Rajapaksa',\n",
       "       'Tilak Varma', 'R Powell', 'A Badoni', 'R Shepherd', 'DJ Willey',\n",
       "       'D Pretorius', 'Harpreet Brar', 'A Manohar', 'JM Sharma',\n",
       "       'OF Smith', 'D Brevis', 'B Sai Sudharsan', 'VG Arora',\n",
       "       'Ramandeep Singh', 'HE van der Dussen', 'PVD Chameera',\n",
       "       'Rasikh Salam', 'Akash Deep', 'SS Prabhudessai', 'Aman Hakim Khan',\n",
       "       'AS Joseph', 'HR Shokeen', 'LH Ferguson', 'Yash Dayal',\n",
       "       'DJ Mitchell', 'B Indrajith', 'Shashank Singh', 'Harshit Rana',\n",
       "       'AS Roy', 'Umran Malik', 'K Kartikeya', 'KS Sharma',\n",
       "       'Mohsin Khan (2)', 'T Stubbs', 'Mukesh Choudhary',\n",
       "       'Simarjeet Singh', 'M Theekshana', 'R Sanjay Yadav', 'A Tomar',\n",
       "       'OC McCoy'], dtype=object)"
      ]
     },
     "execution_count": 9,
     "metadata": {},
     "output_type": "execute_result"
    }
   ],
   "source": [
    "ipl_df['player_dismissed'].unique()"
   ]
  },
  {
   "cell_type": "code",
   "execution_count": 10,
   "metadata": {},
   "outputs": [
    {
     "data": {
      "text/plain": [
       "(float, str)"
      ]
     },
     "execution_count": 10,
     "metadata": {},
     "output_type": "execute_result"
    }
   ],
   "source": [
    "type(ipl_df['player_dismissed'].unique()[0]), type(ipl_df['player_dismissed'].unique()[1])"
   ]
  },
  {
   "cell_type": "code",
   "execution_count": 11,
   "metadata": {},
   "outputs": [],
   "source": [
    "# isOut[x] will be 1 if type(isOut[x]) matches type('str') which is a string\n",
    "ipl_df['isOut'] = ipl_df['player_dismissed'].apply(lambda x: 1 if type(x) == type('str') else 0)"
   ]
  },
  {
   "cell_type": "code",
   "execution_count": 12,
   "metadata": {},
   "outputs": [
    {
     "data": {
      "text/plain": [
       "array([0, 1], dtype=int64)"
      ]
     },
     "execution_count": 12,
     "metadata": {},
     "output_type": "execute_result"
    }
   ],
   "source": [
    "ipl_df['isOut'].unique()"
   ]
  },
  {
   "cell_type": "markdown",
   "metadata": {},
   "source": [
    "# 4. Choose teams"
   ]
  },
  {
   "cell_type": "code",
   "execution_count": 13,
   "metadata": {},
   "outputs": [],
   "source": [
    "# t1 - bat first, t2 - bat second\n",
    "# Eg: MI vs RCB, (match_id: 1254058) \n",
    "\n",
    "t1 = 'Mumbai Indians'\n",
    "t2 = 'Royal Challengers Bangalore'"
   ]
  },
  {
   "cell_type": "markdown",
   "metadata": {},
   "source": [
    "## 4.1 Choose a match b/w these teams"
   ]
  },
  {
   "cell_type": "code",
   "execution_count": 14,
   "metadata": {},
   "outputs": [
    {
     "data": {
      "text/plain": [
       "array([ 335985,  392208,  392218,  419119,  419157,  419162,  548360,\n",
       "        598033,  729287,  733983,  829737, 1136574, 1175362, 1254058,\n",
       "       1304064], dtype=int64)"
      ]
     },
     "execution_count": 14,
     "metadata": {},
     "output_type": "execute_result"
    }
   ],
   "source": [
    "ipl_df[(ipl_df.batting_team == t1) & (ipl_df.bowling_team == t2) & (ipl_df.innings == 1)].match_id.unique()"
   ]
  },
  {
   "cell_type": "code",
   "execution_count": 15,
   "metadata": {},
   "outputs": [],
   "source": [
    "required_match_id = 1254058"
   ]
  },
  {
   "cell_type": "code",
   "execution_count": 16,
   "metadata": {},
   "outputs": [],
   "source": [
    "mdf = ipl_df[ipl_df.match_id == required_match_id]"
   ]
  },
  {
   "cell_type": "code",
   "execution_count": 17,
   "metadata": {},
   "outputs": [],
   "source": [
    "mdf.reset_index(inplace = True, drop = True)"
   ]
  },
  {
   "cell_type": "code",
   "execution_count": 18,
   "metadata": {},
   "outputs": [
    {
     "data": {
      "text/html": [
       "<div>\n",
       "<style scoped>\n",
       "    .dataframe tbody tr th:only-of-type {\n",
       "        vertical-align: middle;\n",
       "    }\n",
       "\n",
       "    .dataframe tbody tr th {\n",
       "        vertical-align: top;\n",
       "    }\n",
       "\n",
       "    .dataframe thead th {\n",
       "        text-align: right;\n",
       "    }\n",
       "</style>\n",
       "<table border=\"1\" class=\"dataframe\">\n",
       "  <thead>\n",
       "    <tr style=\"text-align: right;\">\n",
       "      <th></th>\n",
       "      <th>match_id</th>\n",
       "      <th>season</th>\n",
       "      <th>start_date</th>\n",
       "      <th>venue</th>\n",
       "      <th>innings</th>\n",
       "      <th>ball</th>\n",
       "      <th>batting_team</th>\n",
       "      <th>bowling_team</th>\n",
       "      <th>striker</th>\n",
       "      <th>non_striker</th>\n",
       "      <th>bowler</th>\n",
       "      <th>runs_off_bat</th>\n",
       "      <th>extras</th>\n",
       "      <th>wides</th>\n",
       "      <th>noballs</th>\n",
       "      <th>byes</th>\n",
       "      <th>legbyes</th>\n",
       "      <th>penalty</th>\n",
       "      <th>wicket_type</th>\n",
       "      <th>player_dismissed</th>\n",
       "      <th>other_wicket_type</th>\n",
       "      <th>other_player_dismissed</th>\n",
       "      <th>total_runs</th>\n",
       "      <th>isOut</th>\n",
       "    </tr>\n",
       "  </thead>\n",
       "  <tbody>\n",
       "    <tr>\n",
       "      <th>0</th>\n",
       "      <td>1254058</td>\n",
       "      <td>2021</td>\n",
       "      <td>2021-04-09</td>\n",
       "      <td>MA Chidambaram Stadium, Chepauk, Chennai</td>\n",
       "      <td>2</td>\n",
       "      <td>6.5</td>\n",
       "      <td>Royal Challengers Bangalore</td>\n",
       "      <td>Mumbai Indians</td>\n",
       "      <td>V Kohli</td>\n",
       "      <td>GJ Maxwell</td>\n",
       "      <td>KH Pandya</td>\n",
       "      <td>1</td>\n",
       "      <td>0</td>\n",
       "      <td>NaN</td>\n",
       "      <td>NaN</td>\n",
       "      <td>NaN</td>\n",
       "      <td>NaN</td>\n",
       "      <td>NaN</td>\n",
       "      <td>NaN</td>\n",
       "      <td>NaN</td>\n",
       "      <td>NaN</td>\n",
       "      <td>NaN</td>\n",
       "      <td>1</td>\n",
       "      <td>0</td>\n",
       "    </tr>\n",
       "    <tr>\n",
       "      <th>1</th>\n",
       "      <td>1254058</td>\n",
       "      <td>2021</td>\n",
       "      <td>2021-04-09</td>\n",
       "      <td>MA Chidambaram Stadium, Chepauk, Chennai</td>\n",
       "      <td>2</td>\n",
       "      <td>6.6</td>\n",
       "      <td>Royal Challengers Bangalore</td>\n",
       "      <td>Mumbai Indians</td>\n",
       "      <td>GJ Maxwell</td>\n",
       "      <td>V Kohli</td>\n",
       "      <td>KH Pandya</td>\n",
       "      <td>1</td>\n",
       "      <td>0</td>\n",
       "      <td>NaN</td>\n",
       "      <td>NaN</td>\n",
       "      <td>NaN</td>\n",
       "      <td>NaN</td>\n",
       "      <td>NaN</td>\n",
       "      <td>NaN</td>\n",
       "      <td>NaN</td>\n",
       "      <td>NaN</td>\n",
       "      <td>NaN</td>\n",
       "      <td>1</td>\n",
       "      <td>0</td>\n",
       "    </tr>\n",
       "  </tbody>\n",
       "</table>\n",
       "</div>"
      ],
      "text/plain": [
       "   match_id  season  start_date                                     venue  innings  ball                 batting_team    bowling_team     striker non_striker     bowler  runs_off_bat  extras  wides  noballs  byes  legbyes  penalty wicket_type player_dismissed  other_wicket_type  other_player_dismissed  total_runs  isOut\n",
       "0  1254058   2021    2021-04-09  MA Chidambaram Stadium, Chepauk, Chennai  2        6.5   Royal Challengers Bangalore  Mumbai Indians  V Kohli     GJ Maxwell  KH Pandya  1             0      NaN    NaN      NaN   NaN      NaN       NaN         NaN             NaN                NaN                      1           0    \n",
       "1  1254058   2021    2021-04-09  MA Chidambaram Stadium, Chepauk, Chennai  2        6.6   Royal Challengers Bangalore  Mumbai Indians  GJ Maxwell  V Kohli     KH Pandya  1             0      NaN    NaN      NaN   NaN      NaN       NaN         NaN             NaN                NaN                      1           0    "
      ]
     },
     "execution_count": 18,
     "metadata": {},
     "output_type": "execute_result"
    }
   ],
   "source": [
    "mdf.head(2)"
   ]
  },
  {
   "cell_type": "markdown",
   "metadata": {},
   "source": [
    "## 4.2 Outcomes\n",
    "0, 1, 2, 3, 4, 5, 6, 7, 'W', 'extras'"
   ]
  },
  {
   "cell_type": "code",
   "execution_count": 19,
   "metadata": {},
   "outputs": [],
   "source": [
    "# Ignoring 5 as it is a rare occurrence\n",
    "outcomes = [0, 1, 2, 3, 4, 6, 'w']"
   ]
  },
  {
   "cell_type": "code",
   "execution_count": 20,
   "metadata": {},
   "outputs": [
    {
     "data": {
      "text/plain": [
       "1    40.781379\n",
       "0    35.881570\n",
       "4    11.504839\n",
       "2    6.191316 \n",
       "6    5.047307 \n",
       "3    0.374141 \n",
       "5    0.194266 \n",
       "7    0.025183 \n",
       "Name: total_runs, dtype: float64"
      ]
     },
     "execution_count": 20,
     "metadata": {},
     "output_type": "execute_result"
    }
   ],
   "source": [
    "100 * ipl_df[ipl_df.batting_team == t1].total_runs.value_counts(normalize = True)"
   ]
  },
  {
   "cell_type": "markdown",
   "metadata": {},
   "source": [
    "5 and 7 each contribute to less than 0.2% of the total runs scored by MI. So, we shall ignore these in the outcomes."
   ]
  },
  {
   "cell_type": "code",
   "execution_count": 21,
   "metadata": {},
   "outputs": [],
   "source": [
    "t1_outcomes_count = ipl_df[ipl_df.batting_team == t1].total_runs.value_counts()\n",
    "t2_outcomes_count = ipl_df[ipl_df.batting_team == t2].total_runs.value_counts()"
   ]
  },
  {
   "cell_type": "code",
   "execution_count": 22,
   "metadata": {},
   "outputs": [],
   "source": [
    "t1_outs = ipl_df[ipl_df.batting_team == t1].isOut.sum()\n",
    "t2_outs = ipl_df[ipl_df.batting_team == t2].isOut.sum()"
   ]
  },
  {
   "cell_type": "code",
   "execution_count": 23,
   "metadata": {},
   "outputs": [
    {
     "name": "stdout",
     "output_type": "stream",
     "text": [
      "0\n",
      "1\n",
      "2\n",
      "3\n",
      "4\n",
      "6\n",
      "w\n"
     ]
    }
   ],
   "source": [
    "for outcome in outcomes:\n",
    "    print(outcome)"
   ]
  },
  {
   "cell_type": "code",
   "execution_count": 24,
   "metadata": {},
   "outputs": [
    {
     "data": {
      "text/plain": [
       "1    11336\n",
       "0    9974 \n",
       "4    3198 \n",
       "2    1721 \n",
       "6    1403 \n",
       "3    104  \n",
       "5    54   \n",
       "7    7    \n",
       "Name: total_runs, dtype: int64"
      ]
     },
     "execution_count": 24,
     "metadata": {},
     "output_type": "execute_result"
    }
   ],
   "source": [
    "t1_outcomes_count"
   ]
  },
  {
   "cell_type": "code",
   "execution_count": 25,
   "metadata": {},
   "outputs": [
    {
     "data": {
      "text/plain": [
       "1378"
      ]
     },
     "execution_count": 25,
     "metadata": {},
     "output_type": "execute_result"
    }
   ],
   "source": [
    "# Total no. of wickets lost, this is very close to the total no. of 6s\n",
    "t1_outs"
   ]
  },
  {
   "cell_type": "code",
   "execution_count": 26,
   "metadata": {},
   "outputs": [],
   "source": [
    "t1_outcomes = []\n",
    "t2_outcomes = []\n",
    "\n",
    "for outcome in outcomes:\n",
    "    if outcome != 'w':\n",
    "        t1_outcomes.append(t1_outcomes_count[outcome])\n",
    "        t2_outcomes.append(t2_outcomes_count[outcome])\n",
    "    else:\n",
    "        t1_outcomes.append(t1_outs)\n",
    "        t2_outcomes.append(t2_outs)"
   ]
  },
  {
   "cell_type": "code",
   "execution_count": 27,
   "metadata": {},
   "outputs": [
    {
     "data": {
      "text/plain": [
       "([9974, 11336, 1721, 104, 3198, 1403, 1378],\n",
       " [9331, 10900, 1764, 91, 2983, 1365, 1304])"
      ]
     },
     "execution_count": 27,
     "metadata": {},
     "output_type": "execute_result"
    }
   ],
   "source": [
    "t1_outcomes, t2_outcomes"
   ]
  },
  {
   "cell_type": "markdown",
   "metadata": {},
   "source": [
    "## 4.3 Probability of outcomes"
   ]
  },
  {
   "cell_type": "code",
   "execution_count": 28,
   "metadata": {},
   "outputs": [],
   "source": [
    "t1_pb_outcomes = [i/sum(t1_outcomes) for i in t1_outcomes]\n",
    "t2_pb_outcomes = [i/sum(t2_outcomes) for i in t2_outcomes]"
   ]
  },
  {
   "cell_type": "code",
   "execution_count": 29,
   "metadata": {},
   "outputs": [
    {
     "data": {
      "text/plain": [
       "[0.3425843236930686,\n",
       " 0.3893659407845023,\n",
       " 0.05911245448924916,\n",
       " 0.003572164594353232,\n",
       " 0.10984406127636188,\n",
       " 0.04818987428728447,\n",
       " 0.047331180875180325]"
      ]
     },
     "execution_count": 29,
     "metadata": {},
     "output_type": "execute_result"
    }
   ],
   "source": [
    "t1_pb_outcomes"
   ]
  },
  {
   "cell_type": "code",
   "execution_count": 30,
   "metadata": {},
   "outputs": [],
   "source": [
    "t1_pb_ls = np.cumsum(t1_pb_outcomes)\n",
    "t2_pb_ls = np.cumsum(t2_pb_outcomes)"
   ]
  },
  {
   "cell_type": "code",
   "execution_count": 31,
   "metadata": {},
   "outputs": [
    {
     "data": {
      "text/plain": [
       "(array([0.34258432, 0.73195026, 0.79106272, 0.79463488, 0.90447894,\n",
       "        0.95266882, 1.        ]),\n",
       " array([0.33639772, 0.72936044, 0.79295551, 0.79623621, 0.90377821,\n",
       "        0.95298868, 1.        ]))"
      ]
     },
     "execution_count": 31,
     "metadata": {},
     "output_type": "execute_result"
    }
   ],
   "source": [
    "t1_pb_ls, t2_pb_ls"
   ]
  },
  {
   "cell_type": "markdown",
   "metadata": {},
   "source": [
    "## 4.4 Runs prediction"
   ]
  },
  {
   "cell_type": "code",
   "execution_count": 32,
   "metadata": {},
   "outputs": [
    {
     "data": {
      "text/plain": [
       "0.6022419500012014"
      ]
     },
     "execution_count": 32,
     "metadata": {},
     "output_type": "execute_result"
    }
   ],
   "source": [
    "np.random.random()"
   ]
  },
  {
   "cell_type": "code",
   "execution_count": 33,
   "metadata": {},
   "outputs": [],
   "source": [
    "# Run it for 120 balls and determine runs\n",
    "\n",
    "# first innings\n",
    "pred_runs = 0\n",
    "pred_wks = 0\n",
    "balls = 120\n",
    "\n",
    "i1p_0 = t1_pb_ls[0] # innings 1, probability of dot\n",
    "i1p_1 = t1_pb_ls[1] # innings 1, probability of 1\n",
    "i1p_2 = t1_pb_ls[2] # innings 1, probability of 2\n",
    "i1p_3 = t1_pb_ls[3] # innings 1, probability of 3\n",
    "i1p_4 = t1_pb_ls[4] # innings 1, probability of 4\n",
    "i1p_6 = t1_pb_ls[5] # innings 1, probability of 6\n",
    "i1p_w = 1           # innings 1, probability of 'w'\n",
    "\n",
    "i2p_0 = t2_pb_ls[0] # innings 2, probability of dot\n",
    "i2p_1 = t2_pb_ls[1] # innings 2, probability of 1\n",
    "i2p_2 = t2_pb_ls[2] # innings 2, probability of 2\n",
    "i2p_3 = t2_pb_ls[3] # innings 2, probability of 3\n",
    "i2p_4 = t2_pb_ls[4] # innings 2, probability of 4\n",
    "i2p_6 = t2_pb_ls[5] # innings 2, probability of 6\n",
    "i2p_w = 1           # innings 2, probability of 'w'\n",
    "\n",
    "for i in range(balls):\n",
    "    r_value = np.random.random()\n",
    "\n",
    "    if r_value <= i1p_0:\n",
    "        pred_runs += 0\n",
    "    elif r_value <= i1p_1:\n",
    "        pred_runs += 1\n",
    "    elif r_value <= i1p_2:\n",
    "        pred_runs += 2\n",
    "    elif r_value <= i1p_3:\n",
    "        pred_runs += 3\n",
    "    elif r_value <= i1p_4:\n",
    "        pred_runs += 4\n",
    "    elif r_value <= i1p_6:\n",
    "        pred_runs += 6\n",
    "    else:\n",
    "        pred_runs += 0\n",
    "        pred_wks += 1\n",
    "        if pred_wks == 10:\n",
    "            break"
   ]
  },
  {
   "cell_type": "code",
   "execution_count": 34,
   "metadata": {},
   "outputs": [
    {
     "data": {
      "text/plain": [
       "(169, 3)"
      ]
     },
     "execution_count": 34,
     "metadata": {},
     "output_type": "execute_result"
    }
   ],
   "source": [
    "pred_runs, pred_wks"
   ]
  },
  {
   "cell_type": "markdown",
   "metadata": {},
   "source": [
    "# 5. Function: Runs prediction\n",
    "## 5.1 Converting overs to balls"
   ]
  },
  {
   "cell_type": "code",
   "execution_count": 35,
   "metadata": {},
   "outputs": [],
   "source": [
    "over_ball = 3.1"
   ]
  },
  {
   "cell_type": "code",
   "execution_count": 36,
   "metadata": {},
   "outputs": [
    {
     "data": {
      "text/plain": [
       "'3.1'"
      ]
     },
     "execution_count": 36,
     "metadata": {},
     "output_type": "execute_result"
    }
   ],
   "source": [
    "str(over_ball)"
   ]
  },
  {
   "cell_type": "code",
   "execution_count": 37,
   "metadata": {},
   "outputs": [
    {
     "data": {
      "text/plain": [
       "['3', '1']"
      ]
     },
     "execution_count": 37,
     "metadata": {},
     "output_type": "execute_result"
    }
   ],
   "source": [
    "str(over_ball).split('.')"
   ]
  },
  {
   "cell_type": "code",
   "execution_count": 38,
   "metadata": {},
   "outputs": [],
   "source": [
    "over_no = int(str(over_ball).split('.')[0])\n",
    "ball_no = int(str(over_ball).split('.')[1])"
   ]
  },
  {
   "cell_type": "code",
   "execution_count": 39,
   "metadata": {},
   "outputs": [
    {
     "name": "stdout",
     "output_type": "stream",
     "text": [
      "3 1\n"
     ]
    }
   ],
   "source": [
    "print(over_no, ball_no)"
   ]
  },
  {
   "cell_type": "code",
   "execution_count": 40,
   "metadata": {},
   "outputs": [
    {
     "name": "stdout",
     "output_type": "stream",
     "text": [
      "19\n"
     ]
    }
   ],
   "source": [
    "# Number of balls\n",
    "print(6 * over_no + ball_no)"
   ]
  },
  {
   "cell_type": "markdown",
   "metadata": {},
   "source": [
    "## 5.2 1st innings run prediction"
   ]
  },
  {
   "cell_type": "code",
   "execution_count": 41,
   "metadata": {},
   "outputs": [],
   "source": [
    "def innings_1_runs(curr_score, curr_wickets, curr_overs):\n",
    "    # initialise\n",
    "    pred_runs = curr_score\n",
    "    pred_wks  = curr_wickets\n",
    "    over_ball = curr_overs\n",
    "    \n",
    "    over_no = int(str(over_ball).split('.')[0])\n",
    "    ball_no = int(str(over_ball).split('.')[1])\n",
    "    \n",
    "    leftover_balls = 120 - (6 * over_no + ball_no)\n",
    "\n",
    "    i1p_0 = t1_pb_ls[0] # innings 1, probability of dot\n",
    "    i1p_1 = t1_pb_ls[1] # innings 1, probability of 1\n",
    "    i1p_2 = t1_pb_ls[2] # innings 1, probability of 2\n",
    "    i1p_3 = t1_pb_ls[3] # innings 1, probability of 3\n",
    "    i1p_4 = t1_pb_ls[4] # innings 1, probability of 4\n",
    "    i1p_6 = t1_pb_ls[5] # innings 1, probability of 6\n",
    "    i1p_w = 1           # innings 1, probability of 'w'\n",
    "\n",
    "    for i in range(leftover_balls):\n",
    "        r_value = np.random.random()\n",
    "\n",
    "        if r_value <= i1p_0:\n",
    "            pred_runs += 0\n",
    "        elif r_value <= i1p_1:\n",
    "            pred_runs += 1\n",
    "        elif r_value <= i1p_2:\n",
    "            pred_runs += 2\n",
    "        elif r_value <= i1p_3:\n",
    "            pred_runs += 3\n",
    "        elif r_value <= i1p_4:\n",
    "            pred_runs += 4\n",
    "        elif r_value <= i1p_6:\n",
    "            pred_runs += 6\n",
    "        else:\n",
    "            pred_runs += 0\n",
    "            pred_wks += 1\n",
    "            if pred_wks == 10:\n",
    "                break\n",
    "                \n",
    "    return pred_runs"
   ]
  },
  {
   "cell_type": "code",
   "execution_count": 42,
   "metadata": {},
   "outputs": [
    {
     "data": {
      "text/plain": [
       "184"
      ]
     },
     "execution_count": 42,
     "metadata": {},
     "output_type": "execute_result"
    }
   ],
   "source": [
    "innings_1_runs(140, 4, 15.0)"
   ]
  },
  {
   "cell_type": "markdown",
   "metadata": {},
   "source": [
    "## 5.3 2nd innings runs prediction "
   ]
  },
  {
   "cell_type": "code",
   "execution_count": 43,
   "metadata": {},
   "outputs": [],
   "source": [
    "def innings_2_runs(curr_score, curr_wickets, curr_overs, target):\n",
    "    # initialise\n",
    "    pred_runs = curr_score\n",
    "    pred_wks  = curr_wickets\n",
    "    over_ball = curr_overs\n",
    "    \n",
    "    over_no = int(str(over_ball).split('.')[0])\n",
    "    ball_no = int(str(over_ball).split('.')[1])\n",
    "    \n",
    "    leftover_balls = 120 - (6 * over_no + ball_no)\n",
    "\n",
    "    i2p_0 = t2_pb_ls[0] # innings 2, probability of dot\n",
    "    i2p_1 = t2_pb_ls[1] # innings 2, probability of 1\n",
    "    i2p_2 = t2_pb_ls[2] # innings 2, probability of 2\n",
    "    i2p_3 = t2_pb_ls[3] # innings 2, probability of 3\n",
    "    i2p_4 = t2_pb_ls[4] # innings 2, probability of 4\n",
    "    i2p_6 = t2_pb_ls[5] # innings 2, probability of 6\n",
    "    i2p_w = 1           # innings 2, probability of 'w'\n",
    "\n",
    "    for i in range(leftover_balls):\n",
    "        r_value = np.random.random()\n",
    "\n",
    "        if r_value <= i2p_0:\n",
    "            pred_runs += 0\n",
    "        elif r_value <= i2p_1:\n",
    "            pred_runs += 1\n",
    "        elif r_value <= i2p_2:\n",
    "            pred_runs += 2\n",
    "        elif r_value <= i2p_3:\n",
    "            pred_runs += 3\n",
    "        elif r_value <= i2p_4:\n",
    "            pred_runs += 4\n",
    "        elif r_value <= i2p_6:\n",
    "            pred_runs += 6\n",
    "        else:\n",
    "            pred_runs += 0\n",
    "            pred_wks += 1\n",
    "            if pred_wks == 10:\n",
    "                break\n",
    "        if pred_runs > target:\n",
    "            break\n",
    "                \n",
    "    return pred_runs"
   ]
  },
  {
   "cell_type": "code",
   "execution_count": 44,
   "metadata": {},
   "outputs": [
    {
     "data": {
      "text/plain": [
       "147"
      ]
     },
     "execution_count": 44,
     "metadata": {},
     "output_type": "execute_result"
    }
   ],
   "source": [
    "innings_2_runs(140, 4, 19.0, 150)"
   ]
  },
  {
   "cell_type": "markdown",
   "metadata": {},
   "source": [
    "# 6. Runs prediction for MI vs RCB match"
   ]
  },
  {
   "cell_type": "code",
   "execution_count": 45,
   "metadata": {},
   "outputs": [],
   "source": [
    "df_ing1 = mdf[mdf.innings == 1]\n",
    "df_ing2 = mdf[mdf.innings == 2]"
   ]
  },
  {
   "cell_type": "code",
   "execution_count": 46,
   "metadata": {},
   "outputs": [
    {
     "data": {
      "text/html": [
       "<div>\n",
       "<style scoped>\n",
       "    .dataframe tbody tr th:only-of-type {\n",
       "        vertical-align: middle;\n",
       "    }\n",
       "\n",
       "    .dataframe tbody tr th {\n",
       "        vertical-align: top;\n",
       "    }\n",
       "\n",
       "    .dataframe thead th {\n",
       "        text-align: right;\n",
       "    }\n",
       "</style>\n",
       "<table border=\"1\" class=\"dataframe\">\n",
       "  <thead>\n",
       "    <tr style=\"text-align: right;\">\n",
       "      <th></th>\n",
       "      <th>match_id</th>\n",
       "      <th>season</th>\n",
       "      <th>start_date</th>\n",
       "      <th>venue</th>\n",
       "      <th>innings</th>\n",
       "      <th>ball</th>\n",
       "      <th>batting_team</th>\n",
       "      <th>bowling_team</th>\n",
       "      <th>striker</th>\n",
       "      <th>non_striker</th>\n",
       "      <th>bowler</th>\n",
       "      <th>runs_off_bat</th>\n",
       "      <th>extras</th>\n",
       "      <th>wides</th>\n",
       "      <th>noballs</th>\n",
       "      <th>byes</th>\n",
       "      <th>legbyes</th>\n",
       "      <th>penalty</th>\n",
       "      <th>wicket_type</th>\n",
       "      <th>player_dismissed</th>\n",
       "      <th>other_wicket_type</th>\n",
       "      <th>other_player_dismissed</th>\n",
       "      <th>total_runs</th>\n",
       "      <th>isOut</th>\n",
       "    </tr>\n",
       "  </thead>\n",
       "  <tbody>\n",
       "    <tr>\n",
       "      <th>124</th>\n",
       "      <td>1254058</td>\n",
       "      <td>2021</td>\n",
       "      <td>2021-04-09</td>\n",
       "      <td>MA Chidambaram Stadium, Chepauk, Chennai</td>\n",
       "      <td>1</td>\n",
       "      <td>0.6</td>\n",
       "      <td>Mumbai Indians</td>\n",
       "      <td>Royal Challengers Bangalore</td>\n",
       "      <td>RG Sharma</td>\n",
       "      <td>CA Lynn</td>\n",
       "      <td>Mohammed Siraj</td>\n",
       "      <td>1</td>\n",
       "      <td>0</td>\n",
       "      <td>NaN</td>\n",
       "      <td>NaN</td>\n",
       "      <td>NaN</td>\n",
       "      <td>NaN</td>\n",
       "      <td>NaN</td>\n",
       "      <td>NaN</td>\n",
       "      <td>NaN</td>\n",
       "      <td>NaN</td>\n",
       "      <td>NaN</td>\n",
       "      <td>1</td>\n",
       "      <td>0</td>\n",
       "    </tr>\n",
       "    <tr>\n",
       "      <th>126</th>\n",
       "      <td>1254058</td>\n",
       "      <td>2021</td>\n",
       "      <td>2021-04-09</td>\n",
       "      <td>MA Chidambaram Stadium, Chepauk, Chennai</td>\n",
       "      <td>1</td>\n",
       "      <td>5.4</td>\n",
       "      <td>Mumbai Indians</td>\n",
       "      <td>Royal Challengers Bangalore</td>\n",
       "      <td>CA Lynn</td>\n",
       "      <td>SA Yadav</td>\n",
       "      <td>YS Chahal</td>\n",
       "      <td>1</td>\n",
       "      <td>0</td>\n",
       "      <td>NaN</td>\n",
       "      <td>NaN</td>\n",
       "      <td>NaN</td>\n",
       "      <td>NaN</td>\n",
       "      <td>NaN</td>\n",
       "      <td>NaN</td>\n",
       "      <td>NaN</td>\n",
       "      <td>NaN</td>\n",
       "      <td>NaN</td>\n",
       "      <td>1</td>\n",
       "      <td>0</td>\n",
       "    </tr>\n",
       "  </tbody>\n",
       "</table>\n",
       "</div>"
      ],
      "text/plain": [
       "     match_id  season  start_date                                     venue  innings  ball    batting_team                 bowling_team    striker non_striker          bowler  runs_off_bat  extras  wides  noballs  byes  legbyes  penalty wicket_type player_dismissed  other_wicket_type  other_player_dismissed  total_runs  isOut\n",
       "124  1254058   2021    2021-04-09  MA Chidambaram Stadium, Chepauk, Chennai  1        0.6   Mumbai Indians  Royal Challengers Bangalore  RG Sharma  CA Lynn     Mohammed Siraj  1             0      NaN    NaN      NaN   NaN      NaN       NaN         NaN             NaN                NaN                      1           0    \n",
       "126  1254058   2021    2021-04-09  MA Chidambaram Stadium, Chepauk, Chennai  1        5.4   Mumbai Indians  Royal Challengers Bangalore  CA Lynn    SA Yadav    YS Chahal       1             0      NaN    NaN      NaN   NaN      NaN       NaN         NaN             NaN                NaN                      1           0    "
      ]
     },
     "execution_count": 46,
     "metadata": {},
     "output_type": "execute_result"
    }
   ],
   "source": [
    "df_ing1.head(2)"
   ]
  },
  {
   "cell_type": "code",
   "execution_count": 47,
   "metadata": {},
   "outputs": [],
   "source": [
    "df_ing1.sort_values('ball', ascending = True, inplace = True)"
   ]
  },
  {
   "cell_type": "code",
   "execution_count": 48,
   "metadata": {},
   "outputs": [
    {
     "data": {
      "text/html": [
       "<div>\n",
       "<style scoped>\n",
       "    .dataframe tbody tr th:only-of-type {\n",
       "        vertical-align: middle;\n",
       "    }\n",
       "\n",
       "    .dataframe tbody tr th {\n",
       "        vertical-align: top;\n",
       "    }\n",
       "\n",
       "    .dataframe thead th {\n",
       "        text-align: right;\n",
       "    }\n",
       "</style>\n",
       "<table border=\"1\" class=\"dataframe\">\n",
       "  <thead>\n",
       "    <tr style=\"text-align: right;\">\n",
       "      <th></th>\n",
       "      <th>match_id</th>\n",
       "      <th>season</th>\n",
       "      <th>start_date</th>\n",
       "      <th>venue</th>\n",
       "      <th>innings</th>\n",
       "      <th>ball</th>\n",
       "      <th>batting_team</th>\n",
       "      <th>bowling_team</th>\n",
       "      <th>striker</th>\n",
       "      <th>non_striker</th>\n",
       "      <th>bowler</th>\n",
       "      <th>runs_off_bat</th>\n",
       "      <th>extras</th>\n",
       "      <th>wides</th>\n",
       "      <th>noballs</th>\n",
       "      <th>byes</th>\n",
       "      <th>legbyes</th>\n",
       "      <th>penalty</th>\n",
       "      <th>wicket_type</th>\n",
       "      <th>player_dismissed</th>\n",
       "      <th>other_wicket_type</th>\n",
       "      <th>other_player_dismissed</th>\n",
       "      <th>total_runs</th>\n",
       "      <th>isOut</th>\n",
       "    </tr>\n",
       "  </thead>\n",
       "  <tbody>\n",
       "    <tr>\n",
       "      <th>0</th>\n",
       "      <td>1254058</td>\n",
       "      <td>2021</td>\n",
       "      <td>2021-04-09</td>\n",
       "      <td>MA Chidambaram Stadium, Chepauk, Chennai</td>\n",
       "      <td>2</td>\n",
       "      <td>6.5</td>\n",
       "      <td>Royal Challengers Bangalore</td>\n",
       "      <td>Mumbai Indians</td>\n",
       "      <td>V Kohli</td>\n",
       "      <td>GJ Maxwell</td>\n",
       "      <td>KH Pandya</td>\n",
       "      <td>1</td>\n",
       "      <td>0</td>\n",
       "      <td>NaN</td>\n",
       "      <td>NaN</td>\n",
       "      <td>NaN</td>\n",
       "      <td>NaN</td>\n",
       "      <td>NaN</td>\n",
       "      <td>NaN</td>\n",
       "      <td>NaN</td>\n",
       "      <td>NaN</td>\n",
       "      <td>NaN</td>\n",
       "      <td>1</td>\n",
       "      <td>0</td>\n",
       "    </tr>\n",
       "    <tr>\n",
       "      <th>1</th>\n",
       "      <td>1254058</td>\n",
       "      <td>2021</td>\n",
       "      <td>2021-04-09</td>\n",
       "      <td>MA Chidambaram Stadium, Chepauk, Chennai</td>\n",
       "      <td>2</td>\n",
       "      <td>6.6</td>\n",
       "      <td>Royal Challengers Bangalore</td>\n",
       "      <td>Mumbai Indians</td>\n",
       "      <td>GJ Maxwell</td>\n",
       "      <td>V Kohli</td>\n",
       "      <td>KH Pandya</td>\n",
       "      <td>1</td>\n",
       "      <td>0</td>\n",
       "      <td>NaN</td>\n",
       "      <td>NaN</td>\n",
       "      <td>NaN</td>\n",
       "      <td>NaN</td>\n",
       "      <td>NaN</td>\n",
       "      <td>NaN</td>\n",
       "      <td>NaN</td>\n",
       "      <td>NaN</td>\n",
       "      <td>NaN</td>\n",
       "      <td>1</td>\n",
       "      <td>0</td>\n",
       "    </tr>\n",
       "  </tbody>\n",
       "</table>\n",
       "</div>"
      ],
      "text/plain": [
       "   match_id  season  start_date                                     venue  innings  ball                 batting_team    bowling_team     striker non_striker     bowler  runs_off_bat  extras  wides  noballs  byes  legbyes  penalty wicket_type player_dismissed  other_wicket_type  other_player_dismissed  total_runs  isOut\n",
       "0  1254058   2021    2021-04-09  MA Chidambaram Stadium, Chepauk, Chennai  2        6.5   Royal Challengers Bangalore  Mumbai Indians  V Kohli     GJ Maxwell  KH Pandya  1             0      NaN    NaN      NaN   NaN      NaN       NaN         NaN             NaN                NaN                      1           0    \n",
       "1  1254058   2021    2021-04-09  MA Chidambaram Stadium, Chepauk, Chennai  2        6.6   Royal Challengers Bangalore  Mumbai Indians  GJ Maxwell  V Kohli     KH Pandya  1             0      NaN    NaN      NaN   NaN      NaN       NaN         NaN             NaN                NaN                      1           0    "
      ]
     },
     "execution_count": 48,
     "metadata": {},
     "output_type": "execute_result"
    }
   ],
   "source": [
    "df_ing2.head(2)"
   ]
  },
  {
   "cell_type": "code",
   "execution_count": 49,
   "metadata": {},
   "outputs": [],
   "source": [
    "df_ing2.sort_values('ball', ascending = True, inplace = True)"
   ]
  },
  {
   "cell_type": "code",
   "execution_count": 50,
   "metadata": {},
   "outputs": [],
   "source": [
    "df_ing1.reset_index(inplace = True, drop = True)\n",
    "df_ing2.reset_index(inplace = True, drop = True)"
   ]
  },
  {
   "cell_type": "code",
   "execution_count": 51,
   "metadata": {},
   "outputs": [
    {
     "data": {
      "text/html": [
       "<div>\n",
       "<style scoped>\n",
       "    .dataframe tbody tr th:only-of-type {\n",
       "        vertical-align: middle;\n",
       "    }\n",
       "\n",
       "    .dataframe tbody tr th {\n",
       "        vertical-align: top;\n",
       "    }\n",
       "\n",
       "    .dataframe thead th {\n",
       "        text-align: right;\n",
       "    }\n",
       "</style>\n",
       "<table border=\"1\" class=\"dataframe\">\n",
       "  <thead>\n",
       "    <tr style=\"text-align: right;\">\n",
       "      <th></th>\n",
       "      <th>match_id</th>\n",
       "      <th>season</th>\n",
       "      <th>start_date</th>\n",
       "      <th>venue</th>\n",
       "      <th>innings</th>\n",
       "      <th>ball</th>\n",
       "      <th>batting_team</th>\n",
       "      <th>bowling_team</th>\n",
       "      <th>striker</th>\n",
       "      <th>non_striker</th>\n",
       "      <th>bowler</th>\n",
       "      <th>runs_off_bat</th>\n",
       "      <th>extras</th>\n",
       "      <th>wides</th>\n",
       "      <th>noballs</th>\n",
       "      <th>byes</th>\n",
       "      <th>legbyes</th>\n",
       "      <th>penalty</th>\n",
       "      <th>wicket_type</th>\n",
       "      <th>player_dismissed</th>\n",
       "      <th>other_wicket_type</th>\n",
       "      <th>other_player_dismissed</th>\n",
       "      <th>total_runs</th>\n",
       "      <th>isOut</th>\n",
       "    </tr>\n",
       "  </thead>\n",
       "  <tbody>\n",
       "    <tr>\n",
       "      <th>0</th>\n",
       "      <td>1254058</td>\n",
       "      <td>2021</td>\n",
       "      <td>2021-04-09</td>\n",
       "      <td>MA Chidambaram Stadium, Chepauk, Chennai</td>\n",
       "      <td>1</td>\n",
       "      <td>0.1</td>\n",
       "      <td>Mumbai Indians</td>\n",
       "      <td>Royal Challengers Bangalore</td>\n",
       "      <td>RG Sharma</td>\n",
       "      <td>CA Lynn</td>\n",
       "      <td>Mohammed Siraj</td>\n",
       "      <td>2</td>\n",
       "      <td>0</td>\n",
       "      <td>NaN</td>\n",
       "      <td>NaN</td>\n",
       "      <td>NaN</td>\n",
       "      <td>NaN</td>\n",
       "      <td>NaN</td>\n",
       "      <td>NaN</td>\n",
       "      <td>NaN</td>\n",
       "      <td>NaN</td>\n",
       "      <td>NaN</td>\n",
       "      <td>2</td>\n",
       "      <td>0</td>\n",
       "    </tr>\n",
       "    <tr>\n",
       "      <th>1</th>\n",
       "      <td>1254058</td>\n",
       "      <td>2021</td>\n",
       "      <td>2021-04-09</td>\n",
       "      <td>MA Chidambaram Stadium, Chepauk, Chennai</td>\n",
       "      <td>1</td>\n",
       "      <td>0.2</td>\n",
       "      <td>Mumbai Indians</td>\n",
       "      <td>Royal Challengers Bangalore</td>\n",
       "      <td>RG Sharma</td>\n",
       "      <td>CA Lynn</td>\n",
       "      <td>Mohammed Siraj</td>\n",
       "      <td>0</td>\n",
       "      <td>0</td>\n",
       "      <td>NaN</td>\n",
       "      <td>NaN</td>\n",
       "      <td>NaN</td>\n",
       "      <td>NaN</td>\n",
       "      <td>NaN</td>\n",
       "      <td>NaN</td>\n",
       "      <td>NaN</td>\n",
       "      <td>NaN</td>\n",
       "      <td>NaN</td>\n",
       "      <td>0</td>\n",
       "      <td>0</td>\n",
       "    </tr>\n",
       "  </tbody>\n",
       "</table>\n",
       "</div>"
      ],
      "text/plain": [
       "   match_id  season  start_date                                     venue  innings  ball    batting_team                 bowling_team    striker non_striker          bowler  runs_off_bat  extras  wides  noballs  byes  legbyes  penalty wicket_type player_dismissed  other_wicket_type  other_player_dismissed  total_runs  isOut\n",
       "0  1254058   2021    2021-04-09  MA Chidambaram Stadium, Chepauk, Chennai  1        0.1   Mumbai Indians  Royal Challengers Bangalore  RG Sharma  CA Lynn     Mohammed Siraj  2             0      NaN    NaN      NaN   NaN      NaN       NaN         NaN             NaN                NaN                      2           0    \n",
       "1  1254058   2021    2021-04-09  MA Chidambaram Stadium, Chepauk, Chennai  1        0.2   Mumbai Indians  Royal Challengers Bangalore  RG Sharma  CA Lynn     Mohammed Siraj  0             0      NaN    NaN      NaN   NaN      NaN       NaN         NaN             NaN                NaN                      0           0    "
      ]
     },
     "execution_count": 51,
     "metadata": {},
     "output_type": "execute_result"
    }
   ],
   "source": [
    "df_ing1.head(2)"
   ]
  },
  {
   "cell_type": "code",
   "execution_count": 52,
   "metadata": {},
   "outputs": [
    {
     "data": {
      "text/html": [
       "<div>\n",
       "<style scoped>\n",
       "    .dataframe tbody tr th:only-of-type {\n",
       "        vertical-align: middle;\n",
       "    }\n",
       "\n",
       "    .dataframe tbody tr th {\n",
       "        vertical-align: top;\n",
       "    }\n",
       "\n",
       "    .dataframe thead th {\n",
       "        text-align: right;\n",
       "    }\n",
       "</style>\n",
       "<table border=\"1\" class=\"dataframe\">\n",
       "  <thead>\n",
       "    <tr style=\"text-align: right;\">\n",
       "      <th></th>\n",
       "      <th>match_id</th>\n",
       "      <th>season</th>\n",
       "      <th>start_date</th>\n",
       "      <th>venue</th>\n",
       "      <th>innings</th>\n",
       "      <th>ball</th>\n",
       "      <th>batting_team</th>\n",
       "      <th>bowling_team</th>\n",
       "      <th>striker</th>\n",
       "      <th>non_striker</th>\n",
       "      <th>bowler</th>\n",
       "      <th>runs_off_bat</th>\n",
       "      <th>extras</th>\n",
       "      <th>wides</th>\n",
       "      <th>noballs</th>\n",
       "      <th>byes</th>\n",
       "      <th>legbyes</th>\n",
       "      <th>penalty</th>\n",
       "      <th>wicket_type</th>\n",
       "      <th>player_dismissed</th>\n",
       "      <th>other_wicket_type</th>\n",
       "      <th>other_player_dismissed</th>\n",
       "      <th>total_runs</th>\n",
       "      <th>isOut</th>\n",
       "    </tr>\n",
       "  </thead>\n",
       "  <tbody>\n",
       "    <tr>\n",
       "      <th>0</th>\n",
       "      <td>1254058</td>\n",
       "      <td>2021</td>\n",
       "      <td>2021-04-09</td>\n",
       "      <td>MA Chidambaram Stadium, Chepauk, Chennai</td>\n",
       "      <td>2</td>\n",
       "      <td>0.1</td>\n",
       "      <td>Royal Challengers Bangalore</td>\n",
       "      <td>Mumbai Indians</td>\n",
       "      <td>Washington Sundar</td>\n",
       "      <td>V Kohli</td>\n",
       "      <td>TA Boult</td>\n",
       "      <td>0</td>\n",
       "      <td>0</td>\n",
       "      <td>NaN</td>\n",
       "      <td>NaN</td>\n",
       "      <td>NaN</td>\n",
       "      <td>NaN</td>\n",
       "      <td>NaN</td>\n",
       "      <td>NaN</td>\n",
       "      <td>NaN</td>\n",
       "      <td>NaN</td>\n",
       "      <td>NaN</td>\n",
       "      <td>0</td>\n",
       "      <td>0</td>\n",
       "    </tr>\n",
       "    <tr>\n",
       "      <th>1</th>\n",
       "      <td>1254058</td>\n",
       "      <td>2021</td>\n",
       "      <td>2021-04-09</td>\n",
       "      <td>MA Chidambaram Stadium, Chepauk, Chennai</td>\n",
       "      <td>2</td>\n",
       "      <td>0.2</td>\n",
       "      <td>Royal Challengers Bangalore</td>\n",
       "      <td>Mumbai Indians</td>\n",
       "      <td>Washington Sundar</td>\n",
       "      <td>V Kohli</td>\n",
       "      <td>TA Boult</td>\n",
       "      <td>0</td>\n",
       "      <td>0</td>\n",
       "      <td>NaN</td>\n",
       "      <td>NaN</td>\n",
       "      <td>NaN</td>\n",
       "      <td>NaN</td>\n",
       "      <td>NaN</td>\n",
       "      <td>NaN</td>\n",
       "      <td>NaN</td>\n",
       "      <td>NaN</td>\n",
       "      <td>NaN</td>\n",
       "      <td>0</td>\n",
       "      <td>0</td>\n",
       "    </tr>\n",
       "  </tbody>\n",
       "</table>\n",
       "</div>"
      ],
      "text/plain": [
       "   match_id  season  start_date                                     venue  innings  ball                 batting_team    bowling_team            striker non_striker    bowler  runs_off_bat  extras  wides  noballs  byes  legbyes  penalty wicket_type player_dismissed  other_wicket_type  other_player_dismissed  total_runs  isOut\n",
       "0  1254058   2021    2021-04-09  MA Chidambaram Stadium, Chepauk, Chennai  2        0.1   Royal Challengers Bangalore  Mumbai Indians  Washington Sundar  V Kohli     TA Boult  0             0      NaN    NaN      NaN   NaN      NaN       NaN         NaN             NaN                NaN                      0           0    \n",
       "1  1254058   2021    2021-04-09  MA Chidambaram Stadium, Chepauk, Chennai  2        0.2   Royal Challengers Bangalore  Mumbai Indians  Washington Sundar  V Kohli     TA Boult  0             0      NaN    NaN      NaN   NaN      NaN       NaN         NaN             NaN                NaN                      0           0    "
      ]
     },
     "execution_count": 52,
     "metadata": {},
     "output_type": "execute_result"
    }
   ],
   "source": [
    "df_ing2.head(2)"
   ]
  },
  {
   "cell_type": "markdown",
   "metadata": {},
   "source": [
    "## 6.1 Runs prediction: 1st innings"
   ]
  },
  {
   "cell_type": "code",
   "execution_count": 53,
   "metadata": {},
   "outputs": [],
   "source": [
    "curr_score   = 0\n",
    "curr_wickets = 0\n",
    "curr_overs   = 0.0\n",
    "\n",
    "ing1_runs_pred = []\n",
    "\n",
    "for i in range(len(df_ing1)):\n",
    "    curr_score   += df_ing1.total_runs[i]\n",
    "    curr_wickets += df_ing1.isOut[i]\n",
    "    curr_overs    = df_ing1.ball[i]\n",
    "    \n",
    "    prediction = innings_1_runs(curr_score, curr_wickets, curr_overs)\n",
    "    ing1_runs_pred.append(prediction)"
   ]
  },
  {
   "cell_type": "code",
   "execution_count": 54,
   "metadata": {},
   "outputs": [
    {
     "data": {
      "text/plain": [
       "[146,\n",
       " 187,\n",
       " 150,\n",
       " 143,\n",
       " 150,\n",
       " 122,\n",
       " 164,\n",
       " 149,\n",
       " 146,\n",
       " 142,\n",
       " 128,\n",
       " 154,\n",
       " 106,\n",
       " 135,\n",
       " 118,\n",
       " 177,\n",
       " 120,\n",
       " 134,\n",
       " 161,\n",
       " 168,\n",
       " 158,\n",
       " 154,\n",
       " 163,\n",
       " 131,\n",
       " 155,\n",
       " 121,\n",
       " 152,\n",
       " 121,\n",
       " 145,\n",
       " 158,\n",
       " 136,\n",
       " 108,\n",
       " 154,\n",
       " 140,\n",
       " 155,\n",
       " 134,\n",
       " 137,\n",
       " 133,\n",
       " 154,\n",
       " 157,\n",
       " 152,\n",
       " 154,\n",
       " 181,\n",
       " 179,\n",
       " 154,\n",
       " 159,\n",
       " 171,\n",
       " 156,\n",
       " 168,\n",
       " 155,\n",
       " 157,\n",
       " 166,\n",
       " 171,\n",
       " 149,\n",
       " 163,\n",
       " 186,\n",
       " 162,\n",
       " 170,\n",
       " 185,\n",
       " 171,\n",
       " 154,\n",
       " 170,\n",
       " 160,\n",
       " 171,\n",
       " 163,\n",
       " 177,\n",
       " 172,\n",
       " 169,\n",
       " 145,\n",
       " 176,\n",
       " 156,\n",
       " 170,\n",
       " 153,\n",
       " 152,\n",
       " 168,\n",
       " 152,\n",
       " 169,\n",
       " 162,\n",
       " 160,\n",
       " 158,\n",
       " 169,\n",
       " 159,\n",
       " 166,\n",
       " 153,\n",
       " 174,\n",
       " 161,\n",
       " 150,\n",
       " 167,\n",
       " 161,\n",
       " 163,\n",
       " 173,\n",
       " 178,\n",
       " 161,\n",
       " 163,\n",
       " 153,\n",
       " 176,\n",
       " 170,\n",
       " 162,\n",
       " 164,\n",
       " 161,\n",
       " 170,\n",
       " 158,\n",
       " 168,\n",
       " 171,\n",
       " 157,\n",
       " 174,\n",
       " 165,\n",
       " 169,\n",
       " 164,\n",
       " 169,\n",
       " 157,\n",
       " 152,\n",
       " 156,\n",
       " 161,\n",
       " 159,\n",
       " 159,\n",
       " 170,\n",
       " 165,\n",
       " 160,\n",
       " 162,\n",
       " 160,\n",
       " 161,\n",
       " 159,\n",
       " 159]"
      ]
     },
     "execution_count": 54,
     "metadata": {},
     "output_type": "execute_result"
    }
   ],
   "source": [
    "ing1_runs_pred"
   ]
  },
  {
   "cell_type": "code",
   "execution_count": 55,
   "metadata": {},
   "outputs": [
    {
     "data": {
      "text/plain": [
       "159"
      ]
     },
     "execution_count": 55,
     "metadata": {},
     "output_type": "execute_result"
    }
   ],
   "source": [
    "ing1_actual_score = sum(df_ing1.total_runs)\n",
    "ing1_actual_score"
   ]
  },
  {
   "cell_type": "markdown",
   "metadata": {},
   "source": [
    "## 6.2 Plotting predicted score vs actual score: 1st innings"
   ]
  },
  {
   "cell_type": "code",
   "execution_count": 56,
   "metadata": {
    "scrolled": false
   },
   "outputs": [
    {
     "data": {
      "image/png": "[encoded data removed]",
      "text/plain": [
       "<Figure size 1152x432 with 1 Axes>"
      ]
     },
     "metadata": {
      "needs_background": "light"
     },
     "output_type": "display_data"
    }
   ],
   "source": [
    "x_values = [i for i in range(len(df_ing1))]\n",
    "y_values = ing1_runs_pred\n",
    "\n",
    "plt.figure(figsize = (16,6))\n",
    "plt.scatter(x_values, y_values, color = 'r', alpha = 0.5, label = 'pred')\n",
    "plt.axhline(ing1_actual_score, ls = '--', color = 'g', label = 'actual')\n",
    "plt.ylim(0, ing1_actual_score + 40)\n",
    "plt.title('First Innings Runs Prediction: ' + str(ing1_actual_score), fontsize = 16)\n",
    "plt.xlabel('Ball No:')\n",
    "plt.ylabel('Runs')\n",
    "plt.legend()\n",
    "plt.show()"
   ]
  },
  {
   "cell_type": "markdown",
   "metadata": {},
   "source": [
    "## 6.3 Measuring error: 1st innings"
   ]
  },
  {
   "cell_type": "code",
   "execution_count": 57,
   "metadata": {},
   "outputs": [],
   "source": [
    "error_ing1_ls = [abs(i - ing1_actual_score) for i in ing1_runs_pred]"
   ]
  },
  {
   "cell_type": "code",
   "execution_count": 58,
   "metadata": {},
   "outputs": [
    {
     "data": {
      "text/plain": [
       "10.92741935483871"
      ]
     },
     "execution_count": 58,
     "metadata": {},
     "output_type": "execute_result"
    }
   ],
   "source": [
    "# Mean absolute error\n",
    "np.mean(error_ing1_ls)"
   ]
  },
  {
   "cell_type": "markdown",
   "metadata": {},
   "source": [
    "## 6.4 Runs prediction: 2nd innings"
   ]
  },
  {
   "cell_type": "code",
   "execution_count": 59,
   "metadata": {},
   "outputs": [],
   "source": [
    "target       = ing1_actual_score\n",
    "curr_score   = 0\n",
    "curr_wickets = 0\n",
    "curr_overs   = 0.0\n",
    "\n",
    "ing2_runs_pred = []\n",
    "\n",
    "for i in range(len(df_ing2)):\n",
    "    curr_score   += df_ing2.total_runs[i]\n",
    "    curr_overs    = df_ing2.ball[i]\n",
    "    curr_wickets += df_ing2.isOut[i]\n",
    "    \n",
    "    prediction = innings_2_runs(curr_score, curr_wickets, curr_overs, target)\n",
    "    ing2_runs_pred.append(prediction)"
   ]
  },
  {
   "cell_type": "code",
   "execution_count": 60,
   "metadata": {},
   "outputs": [
    {
     "data": {
      "text/plain": [
       "160"
      ]
     },
     "execution_count": 60,
     "metadata": {},
     "output_type": "execute_result"
    }
   ],
   "source": [
    "ing2_actual_score = sum(df_ing2.total_runs)\n",
    "ing2_actual_score"
   ]
  },
  {
   "cell_type": "markdown",
   "metadata": {},
   "source": [
    "## 6.5 Plotting predicted score vs actual score: 2nd innings"
   ]
  },
  {
   "cell_type": "code",
   "execution_count": 61,
   "metadata": {
    "scrolled": false
   },
   "outputs": [
    {
     "data": {
      "image/png": "[encoded data removed]",
      "text/plain": [
       "<Figure size 1152x432 with 1 Axes>"
      ]
     },
     "metadata": {
      "needs_background": "light"
     },
     "output_type": "display_data"
    }
   ],
   "source": [
    "x_values = [i for i in range(len(ing2_runs_pred))]\n",
    "y_values = ing2_runs_pred\n",
    "\n",
    "plt.figure(figsize = (16, 6))\n",
    "plt.scatter(x_values, y_values, alpha = 0.5, label = 'pred', color = 'red')\n",
    "plt.ylim(0, ing2_actual_score + 30)\n",
    "plt.axhline(ing2_actual_score, ls = '--', label = 'actual', color = 'green')\n",
    "plt.title('Second Innings Runs - Prediction vs Actual (' + t2 + ': ' + str(ing2_actual_score) +  ')', fontsize = 16)\n",
    "plt.xlabel('Ball No:')\n",
    "plt.ylabel('Runs')\n",
    "plt.legend()\n",
    "plt.show()"
   ]
  },
  {
   "cell_type": "markdown",
   "metadata": {},
   "source": [
    "## 6.6 Measuring error: 2nd innings"
   ]
  },
  {
   "cell_type": "code",
   "execution_count": 62,
   "metadata": {},
   "outputs": [],
   "source": [
    "error_ing2_ls = [abs(i - ing2_actual_score) for i in ing2_runs_pred]"
   ]
  },
  {
   "cell_type": "code",
   "execution_count": 63,
   "metadata": {},
   "outputs": [
    {
     "data": {
      "text/plain": [
       "11.03968253968254"
      ]
     },
     "execution_count": 63,
     "metadata": {},
     "output_type": "execute_result"
    }
   ],
   "source": [
    "# Mean absolute error\n",
    "np.mean(error_ing2_ls)"
   ]
  },
  {
   "cell_type": "markdown",
   "metadata": {},
   "source": [
    "# 7. Win predictions\n",
    "## 7.1 1st innings"
   ]
  },
  {
   "cell_type": "code",
   "execution_count": 64,
   "metadata": {},
   "outputs": [],
   "source": [
    "# For each ball make a prediction: 1st innings runs, 2nd innings runs, win/lose/tie\n",
    "\n",
    "# Initialise win/tie/lose counts\n",
    "win_count  = 0\n",
    "tie_count  = 0\n",
    "lose_count = 0\n",
    "\n",
    "# Sum of win_count_ls[i], tie_count_ls[i] and lose_count_ls[i] should be 100% for every ball i\n",
    "win_count_ls  = [] # Win % for chasing team for every ball\n",
    "tie_count_ls  = []\n",
    "lose_count_ls = []\n",
    "\n",
    "ing1_curr_score   = 0\n",
    "ing1_curr_overs   = 0\n",
    "ing1_curr_wickets = 0\n",
    "\n",
    "# Each ball\n",
    "for i in range(len(df_ing1)):\n",
    "    \n",
    "    # 1st innings values\n",
    "    ing1_curr_score   += df_ing1.total_runs[i]\n",
    "    ing1_curr_overs    = df_ing1.ball[i]\n",
    "    ing1_curr_wickets += df_ing1.isOut[i]\n",
    "    \n",
    "    # 2nd innings values\n",
    "    ing2_curr_score   = 0\n",
    "    ing2_curr_wickets = 0\n",
    "    ing2_curr_overs   = 0.0\n",
    "    \n",
    "    # Make a prediction for 100 times & get win/lose/tie count (eg: 28% win)\n",
    "    for j in range(100):\n",
    "        ing1_runs_prediction = innings_1_runs(ing1_curr_score, ing1_curr_wickets, ing1_curr_overs)\n",
    "        target = ing1_runs_prediction\n",
    "        \n",
    "        ing2_runs_prediction = innings_2_runs(ing2_curr_score, ing2_curr_wickets, ing2_curr_overs, target)\n",
    "        \n",
    "        # Prediction w.r.t 2nd team\n",
    "        if ing2_runs_prediction > target:\n",
    "            win_count += 1\n",
    "        elif ing2_runs_prediction == target:\n",
    "            tie_count += 1\n",
    "        else:\n",
    "            lose_count += 1\n",
    "            \n",
    "    win_count_ls.append(win_count)\n",
    "    tie_count_ls.append(tie_count)\n",
    "    lose_count_ls.append(lose_count)\n",
    "    \n",
    "    # Initialise the counts to 0 before the next ball\n",
    "    win_count  = 0\n",
    "    tie_count  = 0\n",
    "    lose_count = 0"
   ]
  },
  {
   "cell_type": "code",
   "execution_count": 65,
   "metadata": {},
   "outputs": [
    {
     "data": {
      "text/plain": [
       "[54,\n",
       " 40,\n",
       " 52,\n",
       " 46,\n",
       " 55,\n",
       " 51,\n",
       " 58,\n",
       " 52,\n",
       " 56,\n",
       " 69,\n",
       " 58,\n",
       " 65,\n",
       " 71,\n",
       " 70,\n",
       " 65,\n",
       " 75,\n",
       " 70,\n",
       " 70,\n",
       " 67,\n",
       " 64,\n",
       " 67,\n",
       " 58,\n",
       " 60,\n",
       " 59,\n",
       " 47,\n",
       " 58,\n",
       " 57,\n",
       " 68,\n",
       " 59,\n",
       " 67,\n",
       " 76,\n",
       " 67,\n",
       " 58,\n",
       " 58,\n",
       " 64,\n",
       " 45,\n",
       " 61,\n",
       " 59,\n",
       " 52,\n",
       " 38,\n",
       " 43,\n",
       " 50,\n",
       " 48,\n",
       " 30,\n",
       " 29,\n",
       " 39,\n",
       " 37,\n",
       " 41,\n",
       " 34,\n",
       " 28,\n",
       " 33,\n",
       " 33,\n",
       " 25,\n",
       " 30,\n",
       " 22,\n",
       " 25,\n",
       " 24,\n",
       " 28,\n",
       " 30,\n",
       " 23,\n",
       " 28,\n",
       " 35,\n",
       " 28,\n",
       " 24,\n",
       " 33,\n",
       " 29,\n",
       " 26,\n",
       " 31,\n",
       " 36,\n",
       " 28,\n",
       " 27,\n",
       " 43,\n",
       " 34,\n",
       " 29,\n",
       " 39,\n",
       " 38,\n",
       " 32,\n",
       " 36,\n",
       " 39,\n",
       " 36,\n",
       " 36,\n",
       " 34,\n",
       " 18,\n",
       " 28,\n",
       " 31,\n",
       " 16,\n",
       " 25,\n",
       " 16,\n",
       " 25,\n",
       " 26,\n",
       " 21,\n",
       " 24,\n",
       " 20,\n",
       " 26,\n",
       " 22,\n",
       " 16,\n",
       " 20,\n",
       " 23,\n",
       " 21,\n",
       " 16,\n",
       " 19,\n",
       " 22,\n",
       " 24,\n",
       " 12,\n",
       " 21,\n",
       " 27,\n",
       " 28,\n",
       " 19,\n",
       " 19,\n",
       " 31,\n",
       " 31,\n",
       " 35,\n",
       " 34,\n",
       " 23,\n",
       " 27,\n",
       " 17,\n",
       " 19,\n",
       " 25,\n",
       " 28,\n",
       " 30,\n",
       " 26,\n",
       " 29,\n",
       " 28,\n",
       " 30]"
      ]
     },
     "execution_count": 65,
     "metadata": {},
     "output_type": "execute_result"
    }
   ],
   "source": [
    "win_count_ls"
   ]
  },
  {
   "cell_type": "markdown",
   "metadata": {},
   "source": [
    "## 7.2 Win predictions: 2nd Innings"
   ]
  },
  {
   "cell_type": "code",
   "execution_count": 66,
   "metadata": {},
   "outputs": [],
   "source": [
    "# 1st innings values\n",
    "target = ing1_actual_score\n",
    "\n",
    "# 2nd innings values\n",
    "ing2_curr_score   = 0\n",
    "ing2_curr_wickets = 0\n",
    "ing2_curr_overs   = 0.0\n",
    "\n",
    "for i in range(len(df_ing2)):\n",
    "    ing2_curr_score   += df_ing2.total_runs[i]\n",
    "    ing2_curr_wickets += df_ing2.isOut[i]\n",
    "    ing2_curr_overs    = df_ing2.ball[i]\n",
    "    \n",
    "    # Make a prediction for 100 times & get win/lose/tie count (eg: 28% win)\n",
    "    for j in range(100):\n",
    "        ing2_prediction = innings_2_runs(ing2_curr_score, ing2_curr_wickets, ing2_curr_overs, target)\n",
    "        \n",
    "        # Prediction w.r.t 2nd team\n",
    "        if ing2_prediction > target:\n",
    "            win_count += 1\n",
    "        elif ing2_prediction == target:\n",
    "            tie_count += 1\n",
    "        else:\n",
    "            lose_count += 1\n",
    "            \n",
    "    win_count_ls.append(win_count)\n",
    "    tie_count_ls.append(tie_count)\n",
    "    lose_count_ls.append(lose_count)\n",
    "    \n",
    "    win_count  = 0\n",
    "    tie_count  = 0\n",
    "    lose_count = 0"
   ]
  },
  {
   "cell_type": "code",
   "execution_count": 67,
   "metadata": {},
   "outputs": [
    {
     "data": {
      "text/plain": [
       "(250, 250, 250)"
      ]
     },
     "execution_count": 67,
     "metadata": {},
     "output_type": "execute_result"
    }
   ],
   "source": [
    "len(win_count_ls), len(tie_count_ls), len(lose_count_ls)"
   ]
  },
  {
   "cell_type": "code",
   "execution_count": 68,
   "metadata": {},
   "outputs": [
    {
     "data": {
      "text/plain": [
       "[54,\n",
       " 40,\n",
       " 52,\n",
       " 46,\n",
       " 55,\n",
       " 51,\n",
       " 58,\n",
       " 52,\n",
       " 56,\n",
       " 69,\n",
       " 58,\n",
       " 65,\n",
       " 71,\n",
       " 70,\n",
       " 65,\n",
       " 75,\n",
       " 70,\n",
       " 70,\n",
       " 67,\n",
       " 64,\n",
       " 67,\n",
       " 58,\n",
       " 60,\n",
       " 59,\n",
       " 47,\n",
       " 58,\n",
       " 57,\n",
       " 68,\n",
       " 59,\n",
       " 67,\n",
       " 76,\n",
       " 67,\n",
       " 58,\n",
       " 58,\n",
       " 64,\n",
       " 45,\n",
       " 61,\n",
       " 59,\n",
       " 52,\n",
       " 38,\n",
       " 43,\n",
       " 50,\n",
       " 48,\n",
       " 30,\n",
       " 29,\n",
       " 39,\n",
       " 37,\n",
       " 41,\n",
       " 34,\n",
       " 28,\n",
       " 33,\n",
       " 33,\n",
       " 25,\n",
       " 30,\n",
       " 22,\n",
       " 25,\n",
       " 24,\n",
       " 28,\n",
       " 30,\n",
       " 23,\n",
       " 28,\n",
       " 35,\n",
       " 28,\n",
       " 24,\n",
       " 33,\n",
       " 29,\n",
       " 26,\n",
       " 31,\n",
       " 36,\n",
       " 28,\n",
       " 27,\n",
       " 43,\n",
       " 34,\n",
       " 29,\n",
       " 39,\n",
       " 38,\n",
       " 32,\n",
       " 36,\n",
       " 39,\n",
       " 36,\n",
       " 36,\n",
       " 34,\n",
       " 18,\n",
       " 28,\n",
       " 31,\n",
       " 16,\n",
       " 25,\n",
       " 16,\n",
       " 25,\n",
       " 26,\n",
       " 21,\n",
       " 24,\n",
       " 20,\n",
       " 26,\n",
       " 22,\n",
       " 16,\n",
       " 20,\n",
       " 23,\n",
       " 21,\n",
       " 16,\n",
       " 19,\n",
       " 22,\n",
       " 24,\n",
       " 12,\n",
       " 21,\n",
       " 27,\n",
       " 28,\n",
       " 19,\n",
       " 19,\n",
       " 31,\n",
       " 31,\n",
       " 35,\n",
       " 34,\n",
       " 23,\n",
       " 27,\n",
       " 17,\n",
       " 19,\n",
       " 25,\n",
       " 28,\n",
       " 30,\n",
       " 26,\n",
       " 29,\n",
       " 28,\n",
       " 30,\n",
       " 31,\n",
       " 26,\n",
       " 32,\n",
       " 29,\n",
       " 38,\n",
       " 33,\n",
       " 37,\n",
       " 37,\n",
       " 33,\n",
       " 24,\n",
       " 34,\n",
       " 28,\n",
       " 33,\n",
       " 29,\n",
       " 30,\n",
       " 32,\n",
       " 31,\n",
       " 28,\n",
       " 24,\n",
       " 25,\n",
       " 26,\n",
       " 25,\n",
       " 28,\n",
       " 27,\n",
       " 38,\n",
       " 38,\n",
       " 29,\n",
       " 28,\n",
       " 32,\n",
       " 26,\n",
       " 33,\n",
       " 40,\n",
       " 42,\n",
       " 42,\n",
       " 44,\n",
       " 30,\n",
       " 20,\n",
       " 21,\n",
       " 26,\n",
       " 17,\n",
       " 21,\n",
       " 19,\n",
       " 20,\n",
       " 25,\n",
       " 20,\n",
       " 28,\n",
       " 31,\n",
       " 31,\n",
       " 36,\n",
       " 27,\n",
       " 27,\n",
       " 34,\n",
       " 26,\n",
       " 25,\n",
       " 14,\n",
       " 18,\n",
       " 21,\n",
       " 34,\n",
       " 27,\n",
       " 19,\n",
       " 29,\n",
       " 28,\n",
       " 14,\n",
       " 17,\n",
       " 17,\n",
       " 36,\n",
       " 38,\n",
       " 28,\n",
       " 34,\n",
       " 32,\n",
       " 30,\n",
       " 37,\n",
       " 32,\n",
       " 44,\n",
       " 35,\n",
       " 36,\n",
       " 40,\n",
       " 36,\n",
       " 36,\n",
       " 40,\n",
       " 26,\n",
       " 31,\n",
       " 20,\n",
       " 13,\n",
       " 13,\n",
       " 17,\n",
       " 14,\n",
       " 15,\n",
       " 8,\n",
       " 4,\n",
       " 9,\n",
       " 6,\n",
       " 10,\n",
       " 4,\n",
       " 3,\n",
       " 6,\n",
       " 10,\n",
       " 20,\n",
       " 17,\n",
       " 12,\n",
       " 17,\n",
       " 16,\n",
       " 11,\n",
       " 9,\n",
       " 5,\n",
       " 4,\n",
       " 6,\n",
       " 6,\n",
       " 18,\n",
       " 16,\n",
       " 11,\n",
       " 27,\n",
       " 29,\n",
       " 25,\n",
       " 43,\n",
       " 46,\n",
       " 74,\n",
       " 63,\n",
       " 62,\n",
       " 59,\n",
       " 68,\n",
       " 56,\n",
       " 49,\n",
       " 60,\n",
       " 56,\n",
       " 100]"
      ]
     },
     "execution_count": 68,
     "metadata": {},
     "output_type": "execute_result"
    }
   ],
   "source": [
    "win_count_ls"
   ]
  },
  {
   "cell_type": "markdown",
   "metadata": {},
   "source": [
    "# 8. Win Percentage Chart"
   ]
  },
  {
   "cell_type": "code",
   "execution_count": 69,
   "metadata": {},
   "outputs": [
    {
     "data": {
      "image/png": "[encoded data removed]",
      "text/plain": [
       "<Figure size 1152x432 with 1 Axes>"
      ]
     },
     "metadata": {
      "needs_background": "light"
     },
     "output_type": "display_data"
    }
   ],
   "source": [
    "plt.figure(figsize = (16, 6))\n",
    "\n",
    "x1_values = [i for i in range(len(win_count_ls))]\n",
    "y1_values = win_count_ls\n",
    "\n",
    "x2_values = [i for i in range(len(tie_count_ls))]\n",
    "y2_values = tie_count_ls\n",
    "\n",
    "x3_values = [i for i in range(len(lose_count_ls))]\n",
    "y3_values = lose_count_ls\n",
    "\n",
    "for i in range(10, len(mdf), 20):\n",
    "    if i < len(mdf) - 10:\n",
    "        plt.axvspan(i, i+10, ymin = 0, ymax = 100, alpha = 0.05, color='grey')\n",
    "\n",
    "plt.axhline(y = 75, ls = '--', alpha = 0.3, c = 'grey')\n",
    "plt.axhline(y = 50, ls = '--', alpha = 1, c = 'grey')\n",
    "plt.axhline(y = 25, ls = '--', alpha = 0.3, c = 'grey')\n",
    "\n",
    "plt.plot(x1_values, y1_values, color = 'orange', label = t2)\n",
    "plt.plot(x2_values, y2_values, color = 'grey', label = 'Tie Value')\n",
    "plt.plot(x3_values, y3_values, color = 'blue', label = t1)\n",
    "\n",
    "plt.ylim(0, 100)\n",
    "plt.yticks([0, 25, 50, 75, 100])\n",
    "\n",
    "# Add confidence interval\n",
    "# ci = 3\n",
    "# plt.fill_between(x1_values, np.array(y1_values) - ci, np.array(y1_values) + ci, color = 'orange', alpha = 0.2 )\n",
    "# plt.fill_between(x2_values, np.array(y2_values) - ci, np.array(y2_values) + ci, color = 'grey', alpha = 0.2 )\n",
    "# plt.fill_between(x3_values, np.array(y3_values) - ci, np.array(y3_values) + ci, color = 'blue', alpha = 0.2 )\n",
    "\n",
    "plt.title('Win Percentage Chart: ' + t1 + ' vs ' + t2, fontsize = 16)\n",
    "plt.xlabel('Ball No:')\n",
    "plt.ylabel('Win %')\n",
    "plt.legend()\n",
    "plt.show()"
   ]
  },
  {
   "cell_type": "markdown",
   "metadata": {},
   "source": [
    "# 9. Further scope\n",
    "1. Determine impact points in a match - You can identify the 5 most impactful balls for RCB win as well as MI loss. Calculate the deltas in win % for each ball and each team. Then, find the 5 maximum values of deltas.\n",
    "2. Consider different probabilities (of dots, singles etc.) for different phases of an innings - powerplay, middle overs and death overs.\n",
    "3. Consider the venue of the match.\n",
    "4. Consider which batsman is at strike.\n",
    "5. Improve the performance of the existing model.\n",
    "6. Construct 6 different ML models for runs, wickets and overs in each innings to predict the win %."
   ]
  },
  {
   "cell_type": "code",
   "execution_count": null,
   "metadata": {},
   "outputs": [],
   "source": []
  }
 ],
 "metadata": {
  "kernelspec": {
   "display_name": "Python 3",
   "language": "python",
   "name": "python3"
  },
  "language_info": {
   "codemirror_mode": {
    "name": "ipython",
    "version": 3
   },
   "file_extension": ".py",
   "mimetype": "text/x-python",
   "name": "python",
   "nbconvert_exporter": "python",
   "pygments_lexer": "ipython3",
   "version": "3.8.8"
  }
 },
 "nbformat": 4,
 "nbformat_minor": 2
}
